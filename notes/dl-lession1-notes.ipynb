{
 "cells": [
  {
   "cell_type": "markdown",
   "metadata": {},
   "source": [
    "# 深度学习笔记\n",
    "\n"
   ]
  },
  {
   "cell_type": "markdown",
   "metadata": {},
   "source": [
    "## 常用公式"
   ]
  },
  {
   "cell_type": "markdown",
   "metadata": {},
   "source": [
    "\n",
    "- Sigmoid 激活函数\n",
    "\n",
    "$$\\sigma(x) = \\frac{1}{1+e^{-x}}$$\n",
    "\n",
    "- Predition 预测公式\n",
    "\n",
    "$$\\hat{y} =  \\sigma(w_1 x_1 + w_2 x_2 + b)$$\n",
    "\n",
    "- Error Function 误差函数\n",
    "\n",
    "$$Error(y, \\hat{y}) = - y \\log(\\hat{y}) - (1-y) \\log(1-\\hat{y})$$\n",
    "\n",
    "- 更新权重的函数\n",
    "\n",
    "$$ w_i \\longrightarrow w_i + \\alpha (y - \\hat{y}  ) x_i$$\n",
    "\n",
    "$$ b \\longrightarrow b + \\alpha (y - \\hat{y})$$"
   ]
  },
  {
   "cell_type": "markdown",
   "metadata": {},
   "source": [
    "### 前向反馈"
   ]
  },
  {
   "cell_type": "markdown",
   "metadata": {},
   "source": [
    "- Predition \n",
    "\n",
    "$$\\hat{y} =  \\sigma(Wx + b)$$\n",
    "\n",
    "- Error Function \n",
    "\n",
    "$$Error(W) = - \\frac{1}{m} \\sum_{i=1}^{m}y_i \\ln(\\hat{y_i}) - (1-y_i) \\ln(1-\\hat{y_i})$$\n",
    "\n"
   ]
  },
  {
   "cell_type": "markdown",
   "metadata": {},
   "source": [
    "### 梯度下降"
   ]
  },
  {
   "cell_type": "markdown",
   "metadata": {},
   "source": [
    "- Error Term 输出误差项\n",
    "\n",
    "$$\\delta = (y - \\hat{y})  f'(h) = (y - \\hat{y})\\sigma(h) (1-\\sigma(h)) $$\n",
    "\n",
    " f'(h)成为输出的梯度\n",
    "\n",
    "$$\\Delta w = \\eta \\delta x_i $$ \n",
    "\n",
    "\n"
   ]
  },
  {
   "cell_type": "markdown",
   "metadata": {},
   "source": [
    "## 多层感知器正向传播\n"
   ]
  },
  {
   "cell_type": "markdown",
   "metadata": {},
   "source": [
    "\n",
    "- Hidden Layer input 隐藏层输入\n",
    "\n",
    "$$ h_j = \\sum_{i} w_{ij} x_i$$\n",
    "\n",
    "- Hidden Layer output 隐藏层输出\n",
    "\n",
    "$$ a_j = f(h_j) = Sigmoid(h_j) $$\n",
    "\n",
    "- Output Layer input 输出层输入\n",
    "\n",
    "$$ z_k = \\sum_{k} w_{jk} a_j$$\n",
    "\n",
    "- Output Layer output 输出层输出\n",
    "\n",
    "$$ \\hat{y_k} = Sigmoid(z_k) = Sigmoid( \\sum_{j}w_{jk}a_j ) $$\n",
    "\n",
    "\n"
   ]
  },
  {
   "cell_type": "markdown",
   "metadata": {},
   "source": [
    "### 多层感知器反向传播"
   ]
  },
  {
   "cell_type": "markdown",
   "metadata": {},
   "source": [
    "\n",
    "- Output Error 输出层误差\n",
    "$$ Error_k = (y_k - \\hat{y_k})  $$\n",
    "\n",
    "- Output Error Term 输出层误差项\n",
    "$$ \\delta_k = (y_k - \\hat{y_k}) f'(z_k) =  (y_k - \\hat{y_k}) Sigmoid(z_k) (1-Sigmoid(z_k) =  (y_k - \\hat{y_k}) (1-\\hat{y_k})\\hat{y_k} $$\n",
    "\n",
    "- Hidden Error 隐藏层误差\n",
    "$$ Error_j =  w_{jk}  \\delta_k $$\n",
    "\n",
    "- Hidden Error Term 隐藏层误差项\n",
    "$$ \\delta_j =  Error_j f'(hj) = w_{jk}\\delta_k f'(hj)  $$\n",
    "\n"
   ]
  },
  {
   "cell_type": "markdown",
   "metadata": {},
   "source": [
    "### 更新权重步长\n",
    "\n",
    "$$ \\Delta W_j =  \\Delta W_j + \\delta_k a_j $$\n",
    "$$ \\Delta w_{ij} =  \\Delta w_{ij} + \\delta_j x_i $$\n",
    "\n",
    "\n",
    "### 更新权重, 其中 η 是学习率，m 是数据点的数量：\n",
    "$$ W_j =  W_j + \\eta \\Delta W_j / m $$\n",
    "$$ w_{ij} =  w_{ij} + \\eta \\Delta w_{ij} / m $$"
   ]
  },
  {
   "cell_type": "code",
   "execution_count": null,
   "metadata": {},
   "outputs": [],
   "source": []
  },
  {
   "cell_type": "code",
   "execution_count": null,
   "metadata": {},
   "outputs": [],
   "source": []
  }
 ],
 "metadata": {
  "kernelspec": {
   "display_name": "Python 2",
   "language": "python",
   "name": "python2"
  },
  "language_info": {
   "codemirror_mode": {
    "name": "ipython",
    "version": 2
   },
   "file_extension": ".py",
   "mimetype": "text/x-python",
   "name": "python",
   "nbconvert_exporter": "python",
   "pygments_lexer": "ipython2",
   "version": "2.7.14"
  }
 },
 "nbformat": 4,
 "nbformat_minor": 2
}
